{
  "nbformat": 4,
  "nbformat_minor": 0,
  "metadata": {
    "colab": {
      "name": "De Bruijn Graph_assembly.ipynb",
      "provenance": [],
      "include_colab_link": true
    },
    "kernelspec": {
      "name": "python3",
      "display_name": "Python 3"
    }
  },
  "cells": [
    {
      "cell_type": "markdown",
      "metadata": {
        "id": "view-in-github",
        "colab_type": "text"
      },
      "source": [
        "<a href=\"https://colab.research.google.com/github/jnarayan81/100-Days-Of-ML-Code/blob/master/De_Bruijn_Graph_assembly.ipynb\" target=\"_parent\"><img src=\"https://colab.research.google.com/assets/colab-badge.svg\" alt=\"Open In Colab\"/></a>"
      ]
    },
    {
      "cell_type": "code",
      "metadata": {
        "id": "SuzH86gR_N_y",
        "colab": {
          "base_uri": "https://localhost:8080/",
          "height": 168
        },
        "outputId": "f34e2a8e-7247-4a24-ba5b-a5868d5d5503"
      },
      "source": [
        "!pip install gvmagic"
      ],
      "execution_count": null,
      "outputs": [
        {
          "output_type": "stream",
          "text": [
            "Collecting gvmagic\n",
            "  Downloading https://files.pythonhosted.org/packages/f7/f8/725b48babca08b58e863bd6f2335641578874c795c5936f8aba1802b74a9/gvmagic-0.5.tar.gz\n",
            "Building wheels for collected packages: gvmagic\n",
            "  Building wheel for gvmagic (setup.py) ... \u001b[?25l\u001b[?25hdone\n",
            "  Created wheel for gvmagic: filename=gvmagic-0.5-cp36-none-any.whl size=10374 sha256=3e0016e085d4f167df4f68500697e9d36786971697605fae4429c7ea72d78b43\n",
            "  Stored in directory: /root/.cache/pip/wheels/f6/67/1f/64d62350d4cffe0a94e39af37828a6a5bfba1b9b9d6d95dbf8\n",
            "Successfully built gvmagic\n",
            "Installing collected packages: gvmagic\n",
            "Successfully installed gvmagic-0.5\n"
          ],
          "name": "stdout"
        }
      ]
    },
    {
      "cell_type": "code",
      "metadata": {
        "id": "eFhaSWX0_ham"
      },
      "source": [
        "import gvmagic"
      ],
      "execution_count": null,
      "outputs": []
    },
    {
      "cell_type": "code",
      "metadata": {
        "id": "BI05hF-L5QTK"
      },
      "source": [
        "def debruijnize(reads):\n",
        "    nodes = set()\n",
        "    not_starts = set()\n",
        "    edges = []\n",
        "    for r in reads:\n",
        "        r1 = r[:-1]\n",
        "        r2 = r[1:]\n",
        "        nodes.add(r1)\n",
        "        nodes.add(r2)\n",
        "        edges.append((r1,r2))\n",
        "        not_starts.add(r2)\n",
        "    return (nodes,edges,list(nodes-not_starts))\n",
        "\n",
        "\n",
        "def build_k_mer(str,k):\n",
        "    return [str[i:k+i] for i in range(0,len(str)-k+1)]\n",
        "\n",
        "\n",
        "def make_node_edge_map(edges):\n",
        "    node_edge_map = {}\n",
        "    for e in edges:\n",
        "        n = e[0]\n",
        "        if n in node_edge_map:\n",
        "            node_edge_map[n].append(e[1])\n",
        "        else:\n",
        "            node_edge_map[n] = [e[1]]\n",
        "    return node_edge_map\n",
        "\n",
        "\n",
        "def eulerian_trail(m,v):\n",
        "    nemap = m\n",
        "    result_trail = []\n",
        "    start = v\n",
        "    result_trail.append(start)\n",
        "    while(True):\n",
        "        trail = []\n",
        "        previous = start\n",
        "        while(True):\n",
        "            \n",
        "            if(previous not in nemap):\n",
        "                break\n",
        "            next = nemap[previous].pop()\n",
        "            if(len(nemap[previous]) == 0):\n",
        "                nemap.pop(previous,None)\n",
        "            trail.append(next)\n",
        "            if(next == start):\n",
        "                break;\n",
        "            previous = next\n",
        "        # completed one trail\n",
        "        print(trail)\n",
        "        index = result_trail.index(start)\n",
        "        result_trail = result_trail[0:index+1] + trail + result_trail[index+1:len(result_trail)]\n",
        "        # choose new start\n",
        "        if(len(nemap)==0):\n",
        "          break\n",
        "        found_new_start = False\n",
        "        for n in result_trail:\n",
        "            if n in nemap:\n",
        "                start = n\n",
        "                found_new_start = True\n",
        "                break # from for loop\n",
        "        if not found_new_start:\n",
        "            print(\"error\")\n",
        "            print(\"result_trail\",result_trail)\n",
        "            print(nemap)\n",
        "            break\n",
        "    return result_trail\n",
        "def visualize_debruijn(G):\n",
        "    nodes = G[0]\n",
        "    edges = G[1]\n",
        "    dot_str= 'digraph \"DeBruijn graph\" {\\n '\n",
        "    for node in nodes:\n",
        "        dot_str += '    %s [label=\"%s\"] ;\\n' %(node,node)\n",
        "    for src,dst in edges:\n",
        "        dot_str += '    %s->%s;\\n' %(src,dst)\n",
        "    return dot_str + '}\\n'\n",
        "\n",
        "\n",
        "def assemble_trail(trail):\n",
        "    if len(trail) == 0:\n",
        "        return \"\"\n",
        "    result = trail[0][:-1]\n",
        "    for node in trail:\n",
        "        result += node[-1]\n",
        "    return result\n",
        "def test_assembly_debruijn(t,k):\n",
        "    reads = build_k_mer(t,k)\n",
        "    G = debruijnize(reads)\n",
        "    v = visualize_debruijn(G)\n",
        "    nemap = make_node_edge_map(G[1])\n",
        "    print(G)\n",
        "    print(v)\n",
        "    start = next(iter(G[2])) if (len(G[2]) > 0) else next(iter(G[0]))\n",
        "    trail = eulerian_trail(nemap,start)\n",
        "    return assemble_trail(trail)"
      ],
      "execution_count": null,
      "outputs": []
    },
    {
      "cell_type": "code",
      "metadata": {
        "id": "8iP1xApf5e4F",
        "colab": {
          "base_uri": "https://localhost:8080/",
          "height": 34
        },
        "outputId": "9db33c9f-c5ef-433a-848f-810a62180c61"
      },
      "source": [
        "reads = build_k_mer(\"ATCGTTGCGCGACCG\",4)\n",
        "print(reads)"
      ],
      "execution_count": null,
      "outputs": [
        {
          "output_type": "stream",
          "text": [
            "['ATCG', 'TCGT', 'CGTT', 'GTTG', 'TTGC', 'TGCG', 'GCGC', 'CGCG', 'GCGA', 'CGAC', 'GACC', 'ACCG']\n"
          ],
          "name": "stdout"
        }
      ]
    },
    {
      "cell_type": "code",
      "metadata": {
        "id": "vCdo5sT55jfq",
        "colab": {
          "base_uri": "https://localhost:8080/",
          "height": 54
        },
        "outputId": "89672770-ccd7-4f2e-e4c1-33535c0df4de"
      },
      "source": [
        "G = debruijnize(reads)\n",
        "print(G)"
      ],
      "execution_count": null,
      "outputs": [
        {
          "output_type": "stream",
          "text": [
            "({'CGC', 'TGC', 'CGT', 'TTG', 'CGA', 'ATC', 'GTT', 'CCG', 'GAC', 'GCG', 'ACC', 'TCG'}, [('ATC', 'TCG'), ('TCG', 'CGT'), ('CGT', 'GTT'), ('GTT', 'TTG'), ('TTG', 'TGC'), ('TGC', 'GCG'), ('GCG', 'CGC'), ('CGC', 'GCG'), ('GCG', 'CGA'), ('CGA', 'GAC'), ('GAC', 'ACC'), ('ACC', 'CCG')], ['ATC'])\n"
          ],
          "name": "stdout"
        }
      ]
    },
    {
      "cell_type": "code",
      "metadata": {
        "id": "iQ88VAn95nbm",
        "colab": {
          "base_uri": "https://localhost:8080/",
          "height": 34
        },
        "outputId": "201971b2-e15d-4238-be6c-c2dd8d36ef6a"
      },
      "source": [
        "m = make_node_edge_map(G[1])\n",
        "print(m)"
      ],
      "execution_count": null,
      "outputs": [
        {
          "output_type": "stream",
          "text": [
            "{'ATC': ['TCG'], 'TCG': ['CGT'], 'CGT': ['GTT'], 'GTT': ['TTG'], 'TTG': ['TGC'], 'TGC': ['GCG'], 'GCG': ['CGC', 'CGA'], 'CGC': ['GCG'], 'CGA': ['GAC'], 'GAC': ['ACC'], 'ACC': ['CCG']}\n"
          ],
          "name": "stdout"
        }
      ]
    },
    {
      "cell_type": "code",
      "metadata": {
        "id": "1EZLFbnf5szh",
        "colab": {
          "base_uri": "https://localhost:8080/",
          "height": 34
        },
        "outputId": "13a5276b-8352-4a25-92f1-e15d7b222d8b"
      },
      "source": [
        "start = G[2][0] if (len(G[2]) > 0) else G[0][0]\n",
        "print (m)\n"
      ],
      "execution_count": null,
      "outputs": [
        {
          "output_type": "stream",
          "text": [
            "{'ATC': ['TCG'], 'TCG': ['CGT'], 'CGT': ['GTT'], 'GTT': ['TTG'], 'TTG': ['TGC'], 'TGC': ['GCG'], 'GCG': ['CGC', 'CGA'], 'CGC': ['GCG'], 'CGA': ['GAC'], 'GAC': ['ACC'], 'ACC': ['CCG']}\n"
          ],
          "name": "stdout"
        }
      ]
    },
    {
      "cell_type": "code",
      "metadata": {
        "id": "FPkqeBGz55_Q",
        "colab": {
          "base_uri": "https://localhost:8080/",
          "height": 67
        },
        "outputId": "b5f59c98-2819-4324-c818-7c9e20eb8621"
      },
      "source": [
        "t = eulerian_trail(m,start)\n",
        "print(t)"
      ],
      "execution_count": null,
      "outputs": [
        {
          "output_type": "stream",
          "text": [
            "['TCG', 'CGT', 'GTT', 'TTG', 'TGC', 'GCG', 'CGA', 'GAC', 'ACC', 'CCG']\n",
            "['CGC', 'GCG']\n",
            "['ATC', 'TCG', 'CGT', 'GTT', 'TTG', 'TGC', 'GCG', 'CGC', 'GCG', 'CGA', 'GAC', 'ACC', 'CCG']\n"
          ],
          "name": "stdout"
        }
      ]
    },
    {
      "cell_type": "code",
      "metadata": {
        "id": "3fwCEVcs5_5A"
      },
      "source": [
        "get_ipython().magic(u'load_ext gvmagic')\n"
      ],
      "execution_count": null,
      "outputs": []
    },
    {
      "cell_type": "code",
      "metadata": {
        "id": "XXoBjfNR6Bmm",
        "colab": {
          "base_uri": "https://localhost:8080/",
          "height": 1000
        },
        "outputId": "e87707f1-6930-4de6-994f-53fff27ff3bf"
      },
      "source": [
        "get_ipython().magic(u'dotstr visualize_debruijn(G)')"
      ],
      "execution_count": null,
      "outputs": [
        {
          "output_type": "display_data",
          "data": {
            "text/plain": [
              "<IPython.core.display.SVG object>"
            ],
            "image/svg+xml": "<svg height=\"764pt\" viewBox=\"0.00 0.00 146.44 764.00\" width=\"146pt\" xmlns=\"http://www.w3.org/2000/svg\" xmlns:xlink=\"http://www.w3.org/1999/xlink\">\n<g class=\"graph\" id=\"graph0\" transform=\"scale(1 1) rotate(0) translate(4 760)\">\n<title>DeBruijn graph</title>\n<polygon fill=\"#ffffff\" points=\"-4,4 -4,-760 142.4446,-760 142.4446,4 -4,4\" stroke=\"transparent\"/>\n<!-- CGC -->\n<g class=\"node\" id=\"node1\">\n<title>CGC</title>\n<ellipse cx=\"30.5473\" cy=\"-378\" fill=\"none\" rx=\"30.5947\" ry=\"18\" stroke=\"#000000\"/>\n<text fill=\"#000000\" font-family=\"Times,serif\" font-size=\"14.00\" text-anchor=\"middle\" x=\"30.5473\" y=\"-374.3\">CGC</text>\n</g>\n<!-- GCG -->\n<g class=\"node\" id=\"node10\">\n<title>GCG</title>\n<ellipse cx=\"30.5473\" cy=\"-306\" fill=\"none\" rx=\"30.5947\" ry=\"18\" stroke=\"#000000\"/>\n<text fill=\"#000000\" font-family=\"Times,serif\" font-size=\"14.00\" text-anchor=\"middle\" x=\"30.5473\" y=\"-302.3\">GCG</text>\n</g>\n<!-- CGC&#45;&gt;GCG -->\n<g class=\"edge\" id=\"edge8\">\n<title>CGC-&gt;GCG</title>\n<path d=\"M24.6316,-360.2022C23.8418,-352.3271 23.6128,-342.875 23.9444,-334.0852\" fill=\"none\" stroke=\"#000000\"/>\n<polygon fill=\"#000000\" points=\"27.4542,-334.0532 24.6271,-323.8425 20.4697,-333.5876 27.4542,-334.0532\" stroke=\"#000000\"/>\n</g>\n<!-- TGC -->\n<g class=\"node\" id=\"node2\">\n<title>TGC</title>\n<ellipse cx=\"108.5473\" cy=\"-378\" fill=\"none\" rx=\"29.795\" ry=\"18\" stroke=\"#000000\"/>\n<text fill=\"#000000\" font-family=\"Times,serif\" font-size=\"14.00\" text-anchor=\"middle\" x=\"108.5473\" y=\"-374.3\">TGC</text>\n</g>\n<!-- TGC&#45;&gt;GCG -->\n<g class=\"edge\" id=\"edge6\">\n<title>TGC-&gt;GCG</title>\n<path d=\"M92.0055,-362.7307C81.1471,-352.7075 66.7654,-339.4321 54.6443,-328.2434\" fill=\"none\" stroke=\"#000000\"/>\n<polygon fill=\"#000000\" points=\"56.7873,-325.4583 47.0652,-321.2473 52.0393,-330.602 56.7873,-325.4583\" stroke=\"#000000\"/>\n</g>\n<!-- CGT -->\n<g class=\"node\" id=\"node3\">\n<title>CGT</title>\n<ellipse cx=\"108.5473\" cy=\"-594\" fill=\"none\" rx=\"29.795\" ry=\"18\" stroke=\"#000000\"/>\n<text fill=\"#000000\" font-family=\"Times,serif\" font-size=\"14.00\" text-anchor=\"middle\" x=\"108.5473\" y=\"-590.3\">CGT</text>\n</g>\n<!-- GTT -->\n<g class=\"node\" id=\"node7\">\n<title>GTT</title>\n<ellipse cx=\"108.5473\" cy=\"-522\" fill=\"none\" rx=\"29.4969\" ry=\"18\" stroke=\"#000000\"/>\n<text fill=\"#000000\" font-family=\"Times,serif\" font-size=\"14.00\" text-anchor=\"middle\" x=\"108.5473\" y=\"-518.3\">GTT</text>\n</g>\n<!-- CGT&#45;&gt;GTT -->\n<g class=\"edge\" id=\"edge3\">\n<title>CGT-&gt;GTT</title>\n<path d=\"M108.5473,-575.8314C108.5473,-568.131 108.5473,-558.9743 108.5473,-550.4166\" fill=\"none\" stroke=\"#000000\"/>\n<polygon fill=\"#000000\" points=\"112.0474,-550.4132 108.5473,-540.4133 105.0474,-550.4133 112.0474,-550.4132\" stroke=\"#000000\"/>\n</g>\n<!-- TTG -->\n<g class=\"node\" id=\"node4\">\n<title>TTG</title>\n<ellipse cx=\"108.5473\" cy=\"-450\" fill=\"none\" rx=\"29.4969\" ry=\"18\" stroke=\"#000000\"/>\n<text fill=\"#000000\" font-family=\"Times,serif\" font-size=\"14.00\" text-anchor=\"middle\" x=\"108.5473\" y=\"-446.3\">TTG</text>\n</g>\n<!-- TTG&#45;&gt;TGC -->\n<g class=\"edge\" id=\"edge5\">\n<title>TTG-&gt;TGC</title>\n<path d=\"M108.5473,-431.8314C108.5473,-424.131 108.5473,-414.9743 108.5473,-406.4166\" fill=\"none\" stroke=\"#000000\"/>\n<polygon fill=\"#000000\" points=\"112.0474,-406.4132 108.5473,-396.4133 105.0474,-406.4133 112.0474,-406.4132\" stroke=\"#000000\"/>\n</g>\n<!-- CGA -->\n<g class=\"node\" id=\"node5\">\n<title>CGA</title>\n<ellipse cx=\"30.5473\" cy=\"-234\" fill=\"none\" rx=\"30.5947\" ry=\"18\" stroke=\"#000000\"/>\n<text fill=\"#000000\" font-family=\"Times,serif\" font-size=\"14.00\" text-anchor=\"middle\" x=\"30.5473\" y=\"-230.3\">CGA</text>\n</g>\n<!-- GAC -->\n<g class=\"node\" id=\"node9\">\n<title>GAC</title>\n<ellipse cx=\"30.5473\" cy=\"-162\" fill=\"none\" rx=\"30.5947\" ry=\"18\" stroke=\"#000000\"/>\n<text fill=\"#000000\" font-family=\"Times,serif\" font-size=\"14.00\" text-anchor=\"middle\" x=\"30.5473\" y=\"-158.3\">GAC</text>\n</g>\n<!-- CGA&#45;&gt;GAC -->\n<g class=\"edge\" id=\"edge10\">\n<title>CGA-&gt;GAC</title>\n<path d=\"M30.5473,-215.8314C30.5473,-208.131 30.5473,-198.9743 30.5473,-190.4166\" fill=\"none\" stroke=\"#000000\"/>\n<polygon fill=\"#000000\" points=\"34.0474,-190.4132 30.5473,-180.4133 27.0474,-190.4133 34.0474,-190.4132\" stroke=\"#000000\"/>\n</g>\n<!-- ATC -->\n<g class=\"node\" id=\"node6\">\n<title>ATC</title>\n<ellipse cx=\"108.5473\" cy=\"-738\" fill=\"none\" rx=\"28.6953\" ry=\"18\" stroke=\"#000000\"/>\n<text fill=\"#000000\" font-family=\"Times,serif\" font-size=\"14.00\" text-anchor=\"middle\" x=\"108.5473\" y=\"-734.3\">ATC</text>\n</g>\n<!-- TCG -->\n<g class=\"node\" id=\"node12\">\n<title>TCG</title>\n<ellipse cx=\"108.5473\" cy=\"-666\" fill=\"none\" rx=\"29.795\" ry=\"18\" stroke=\"#000000\"/>\n<text fill=\"#000000\" font-family=\"Times,serif\" font-size=\"14.00\" text-anchor=\"middle\" x=\"108.5473\" y=\"-662.3\">TCG</text>\n</g>\n<!-- ATC&#45;&gt;TCG -->\n<g class=\"edge\" id=\"edge1\">\n<title>ATC-&gt;TCG</title>\n<path d=\"M108.5473,-719.8314C108.5473,-712.131 108.5473,-702.9743 108.5473,-694.4166\" fill=\"none\" stroke=\"#000000\"/>\n<polygon fill=\"#000000\" points=\"112.0474,-694.4132 108.5473,-684.4133 105.0474,-694.4133 112.0474,-694.4132\" stroke=\"#000000\"/>\n</g>\n<!-- GTT&#45;&gt;TTG -->\n<g class=\"edge\" id=\"edge4\">\n<title>GTT-&gt;TTG</title>\n<path d=\"M108.5473,-503.8314C108.5473,-496.131 108.5473,-486.9743 108.5473,-478.4166\" fill=\"none\" stroke=\"#000000\"/>\n<polygon fill=\"#000000\" points=\"112.0474,-478.4132 108.5473,-468.4133 105.0474,-478.4133 112.0474,-478.4132\" stroke=\"#000000\"/>\n</g>\n<!-- CCG -->\n<g class=\"node\" id=\"node8\">\n<title>CCG</title>\n<ellipse cx=\"30.5473\" cy=\"-18\" fill=\"none\" rx=\"30.5947\" ry=\"18\" stroke=\"#000000\"/>\n<text fill=\"#000000\" font-family=\"Times,serif\" font-size=\"14.00\" text-anchor=\"middle\" x=\"30.5473\" y=\"-14.3\">CCG</text>\n</g>\n<!-- ACC -->\n<g class=\"node\" id=\"node11\">\n<title>ACC</title>\n<ellipse cx=\"30.5473\" cy=\"-90\" fill=\"none\" rx=\"30.5947\" ry=\"18\" stroke=\"#000000\"/>\n<text fill=\"#000000\" font-family=\"Times,serif\" font-size=\"14.00\" text-anchor=\"middle\" x=\"30.5473\" y=\"-86.3\">ACC</text>\n</g>\n<!-- GAC&#45;&gt;ACC -->\n<g class=\"edge\" id=\"edge11\">\n<title>GAC-&gt;ACC</title>\n<path d=\"M30.5473,-143.8314C30.5473,-136.131 30.5473,-126.9743 30.5473,-118.4166\" fill=\"none\" stroke=\"#000000\"/>\n<polygon fill=\"#000000\" points=\"34.0474,-118.4132 30.5473,-108.4133 27.0474,-118.4133 34.0474,-118.4132\" stroke=\"#000000\"/>\n</g>\n<!-- GCG&#45;&gt;CGC -->\n<g class=\"edge\" id=\"edge7\">\n<title>GCG-&gt;CGC</title>\n<path d=\"M36.4675,-323.8425C37.2551,-331.7236 37.4821,-341.1774 37.1483,-349.9647\" fill=\"none\" stroke=\"#000000\"/>\n<polygon fill=\"#000000\" points=\"33.6388,-349.9908 36.463,-360.2022 40.6231,-350.4583 33.6388,-349.9908\" stroke=\"#000000\"/>\n</g>\n<!-- GCG&#45;&gt;CGA -->\n<g class=\"edge\" id=\"edge9\">\n<title>GCG-&gt;CGA</title>\n<path d=\"M30.5473,-287.8314C30.5473,-280.131 30.5473,-270.9743 30.5473,-262.4166\" fill=\"none\" stroke=\"#000000\"/>\n<polygon fill=\"#000000\" points=\"34.0474,-262.4132 30.5473,-252.4133 27.0474,-262.4133 34.0474,-262.4132\" stroke=\"#000000\"/>\n</g>\n<!-- ACC&#45;&gt;CCG -->\n<g class=\"edge\" id=\"edge12\">\n<title>ACC-&gt;CCG</title>\n<path d=\"M30.5473,-71.8314C30.5473,-64.131 30.5473,-54.9743 30.5473,-46.4166\" fill=\"none\" stroke=\"#000000\"/>\n<polygon fill=\"#000000\" points=\"34.0474,-46.4132 30.5473,-36.4133 27.0474,-46.4133 34.0474,-46.4132\" stroke=\"#000000\"/>\n</g>\n<!-- TCG&#45;&gt;CGT -->\n<g class=\"edge\" id=\"edge2\">\n<title>TCG-&gt;CGT</title>\n<path d=\"M108.5473,-647.8314C108.5473,-640.131 108.5473,-630.9743 108.5473,-622.4166\" fill=\"none\" stroke=\"#000000\"/>\n<polygon fill=\"#000000\" points=\"112.0474,-622.4132 108.5473,-612.4133 105.0474,-622.4133 112.0474,-622.4132\" stroke=\"#000000\"/>\n</g>\n</g>\n</svg>"
          },
          "metadata": {
            "tags": []
          }
        }
      ]
    },
    {
      "cell_type": "code",
      "metadata": {
        "id": "v_tjani0-wyh",
        "colab": {
          "base_uri": "https://localhost:8080/",
          "height": 35
        },
        "outputId": "1ad532f8-9b01-4e40-965b-bcff1d0d2869"
      },
      "source": [
        "assemble_trail(t)"
      ],
      "execution_count": null,
      "outputs": [
        {
          "output_type": "execute_result",
          "data": {
            "application/vnd.google.colaboratory.intrinsic": {
              "type": "string"
            },
            "text/plain": [
              "'ATCGTTGCGCGACCG'"
            ]
          },
          "metadata": {
            "tags": []
          },
          "execution_count": 21
        }
      ]
    },
    {
      "cell_type": "markdown",
      "metadata": {
        "id": "lOVrC29p5c6T"
      },
      "source": [
        ""
      ]
    }
  ]
}